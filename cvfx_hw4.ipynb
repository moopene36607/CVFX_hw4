{
 "cells": [
  {
   "cell_type": "markdown",
   "metadata": {},
   "source": [
    "# CVFX Team17 Hw4 \n",
    "Contrast enhancement\n",
    "\n",
    "1. Decompose the input image into base layer and detail layer.\n",
    "2. Enhance the detail layer and combine the base layer and the enhanced detail layer to get the output.\n",
    "\n",
    "For step 1, try i) bilateral filter and ii) L0 smoothing filter\n",
    "\n",
    "#### This code use bilateral filter\n",
    "\n",
    "---\n",
    "### About path\n",
    "\n",
    "    current file\n",
    "\n",
    "         ->file:\"input\"\n",
    "\n",
    "            save your img here\n",
    "     \n",
    "         ->file:\"output\"\n",
    "      \n",
    "              -> \"bilateral\"\n",
    "          \n",
    "                  all output files will be saved here"
   ]
  },
  {
   "cell_type": "markdown",
   "metadata": {
    "collapsed": true
   },
   "source": [
    "# Import libraries"
   ]
  },
  {
   "cell_type": "code",
   "execution_count": 33,
   "metadata": {
    "collapsed": true
   },
   "outputs": [],
   "source": [
    "import os\n",
    "import skimage\n",
    "import skimage.restoration\n",
    "import numpy as np\n",
    "from skimage.transform import rescale\n",
    "from skimage import io"
   ]
  },
  {
   "cell_type": "markdown",
   "metadata": {
    "collapsed": true
   },
   "source": [
    "# Variables"
   ]
  },
  {
   "cell_type": "code",
   "execution_count": 36,
   "metadata": {},
   "outputs": [
    {
     "name": "stdout",
     "output_type": "stream",
     "text": [
      "original size:(4032, 3024, 3)\n"
     ]
    },
    {
     "name": "stderr",
     "output_type": "stream",
     "text": [
      "C:\\Users\\moopene\\Anaconda3\\envs\\py3-5\\lib\\site-packages\\skimage\\transform\\_warps.py:84: UserWarning: The default mode, 'constant', will be changed to 'reflect' in skimage 0.15.\n",
      "  warn(\"The default mode, 'constant', will be changed to 'reflect' in \"\n"
     ]
    },
    {
     "name": "stdout",
     "output_type": "stream",
     "text": [
      "resized:(605, 454, 3)\n"
     ]
    }
   ],
   "source": [
    "#hyperparameters\n",
    "alpha = 1\n",
    "sigma_spatial=5\n",
    "sigma_color=0.2\n",
    "ss_num='ss'+str(sigma_spatial)\n",
    "sc_num='sc'+str(sigma_color)\n",
    "#input file name\n",
    "fname = 'hubie1'\n",
    "input_file = \"input/\"\n",
    "file_name_in = fname+'.JPG'\n",
    "#input path\n",
    "file_path_in = os.path.join(input_file, file_name_in)\n",
    "\n",
    "#output file name\n",
    "output_file ='output/'\n",
    "output_file_bil = output_file+'bilateral'\n",
    "output_file_l0 = output_file+'l0'\n",
    "#output image name\n",
    "file_name_out_bil = fname+'_bilateral_'+sc_num+ss_num+'.JPG'\n",
    "file_name_out_bil_sharp = fname+'_bilateral_'+sc_num+ss_num+'_sharp'+'.JPG'\n",
    "file_name_out_bil_result = fname+'_bilateral_'+sc_num+ss_num+'_result'+'.JPG'\n",
    "#output path\n",
    "file_path_out_bil = os.path.join(output_file_bil, file_name_out_bil)\n",
    "file_path_out_bil_sharp = os.path.join(output_file_bil, file_name_out_bil_sharp)\n",
    "file_path_out_bil_result = os.path.join(output_file_bil, file_name_out_bil_result)\n",
    "#print(file_path)\n",
    "img = io.imread(file_path_in)\n",
    "print('original size:{}'.format(img.shape))\n",
    "img_rescaled = rescale(img, 0.15, order=1, mode=None, cval=0, clip=True,preserve_range=False)\n",
    "print('resized:{}'.format(img_rescaled.shape))"
   ]
  },
  {
   "cell_type": "markdown",
   "metadata": {},
   "source": [
    "# Run bilateral"
   ]
  },
  {
   "cell_type": "code",
   "execution_count": 37,
   "metadata": {},
   "outputs": [
    {
     "name": "stdout",
     "output_type": "stream",
     "text": [
      "Wall time: 33.5 s\n"
     ]
    }
   ],
   "source": [
    "%%time\n",
    "img_bilateral = skimage.restoration.denoise_bilateral(img_rescaled, win_size=None, \n",
    "                                                      sigma_color=sigma_color, sigma_spatial=sigma_spatial, \n",
    "                                                      bins=10000, mode='constant', cval=0, multichannel=True)\n",
    "#rescale=0.15\n",
    "#    ss=5 => time=32.4s\n",
    "#    ss=15 => time=4min41s"
   ]
  },
  {
   "cell_type": "code",
   "execution_count": 38,
   "metadata": {},
   "outputs": [
    {
     "name": "stderr",
     "output_type": "stream",
     "text": [
      "C:\\Users\\moopene\\Anaconda3\\envs\\py3-5\\lib\\site-packages\\skimage\\util\\dtype.py:122: UserWarning: Possible precision loss when converting from float64 to uint8\n",
      "  .format(dtypeobj_in, dtypeobj_out))\n"
     ]
    }
   ],
   "source": [
    "skimage.io.imsave(file_path_out_bil, img_bilateral, plugin=None)"
   ]
  },
  {
   "cell_type": "markdown",
   "metadata": {},
   "source": [
    "# Get detail layer"
   ]
  },
  {
   "cell_type": "code",
   "execution_count": 39,
   "metadata": {},
   "outputs": [
    {
     "name": "stderr",
     "output_type": "stream",
     "text": [
      "C:\\Users\\moopene\\Anaconda3\\envs\\py3-5\\lib\\site-packages\\skimage\\util\\dtype.py:122: UserWarning: Possible precision loss when converting from float64 to uint8\n",
      "  .format(dtypeobj_in, dtypeobj_out))\n"
     ]
    }
   ],
   "source": [
    "img_sharp = img_rescaled - img_bilateral\n",
    "skimage.io.imsave(file_path_out_bil_sharp, img_sharp, plugin=None)"
   ]
  },
  {
   "cell_type": "markdown",
   "metadata": {},
   "source": [
    "# Get result"
   ]
  },
  {
   "cell_type": "code",
   "execution_count": 40,
   "metadata": {},
   "outputs": [
    {
     "name": "stderr",
     "output_type": "stream",
     "text": [
      "C:\\Users\\moopene\\Anaconda3\\envs\\py3-5\\lib\\site-packages\\skimage\\util\\dtype.py:122: UserWarning: Possible precision loss when converting from float64 to uint8\n",
      "  .format(dtypeobj_in, dtypeobj_out))\n"
     ]
    }
   ],
   "source": [
    "img_result = img_rescaled + 3*img_sharp\n",
    "img_result = np.clip(img_result,-1,1)\n",
    "skimage.io.imsave(file_path_out_bil_result, img_result, plugin=None)"
   ]
  },
  {
   "cell_type": "code",
   "execution_count": null,
   "metadata": {},
   "outputs": [],
   "source": []
  }
 ],
 "metadata": {
  "kernelspec": {
   "display_name": "Python 3",
   "language": "python",
   "name": "python3"
  },
  "language_info": {
   "codemirror_mode": {
    "name": "ipython",
    "version": 3
   },
   "file_extension": ".py",
   "mimetype": "text/x-python",
   "name": "python",
   "nbconvert_exporter": "python",
   "pygments_lexer": "ipython3",
   "version": "3.5.4"
  }
 },
 "nbformat": 4,
 "nbformat_minor": 2
}
